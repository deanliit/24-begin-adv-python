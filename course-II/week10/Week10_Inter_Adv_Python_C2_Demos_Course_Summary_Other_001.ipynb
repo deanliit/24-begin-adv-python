{
  "nbformat": 4,
  "nbformat_minor": 0,
  "metadata": {
    "colab": {
      "provenance": []
    },
    "kernelspec": {
      "name": "python3",
      "display_name": "Python 3"
    },
    "language_info": {
      "name": "python"
    }
  },
  "cells": [
    {
      "cell_type": "markdown",
      "source": [
        "#Weekly class demos and Exercises summary  \n",
        "- 10 weeks course (2.5h class/demos/labs) / 30 min practice\n",
        "\n",
        "#Weekly Topics\n",
        " - Beautiful soup summary\n",
        " - AI/ML introduction  \n",
        "  - https://www.w3schools.com/python/python_ml_getting_started.asp\n",
        "\n",
        "## Python Job roles\n",
        "- python developer\n",
        "- data analysis\n",
        "- data scientist\n",
        "- other\n",
        "\n",
        "\n",
        "#Weekly Homework , Class Assignment, Class Project\n",
        "- Reading/review\n",
        "\n",
        "  - w3schools reference\n",
        "  - classes, lamda\n",
        "  \n",
        "- practice: in-class exercises\n",
        "\n",
        "- pdf ebook ref\n",
        "- exercises , course book pages\n",
        "- pages:\n",
        "   -\n",
        "\n",
        "#github course demos and examples\n",
        "\n",
        "- https://github.com/deanliit/8-24-begin-adv-python.git\n",
        "\n",
        "## Python references\n",
        "https://www.w3schools.com/python/python_intro.asp\n",
        "- Course book\n",
        "\n",
        "### Class Quiz - Email link to google forms\n",
        "\n",
        "<pre>\n",
        "\n",
        "- 3 quizzes - similar to python entry level quiz\n",
        "- multiple choice\n",
        "- 6 multiple choice quesitons = 85%\n",
        "- 1 code fill-in question\n",
        "\n",
        "> fill-in code section\n",
        "write code is vs.code - copy code in quiz\n",
        "small example program -- 15%\n",
        "example: write a progarm to compute 2 numeric values\n",
        "notes: create code in a function\n",
        "use input to retieve integer values\n",
        "display items and total\n",
        "\n",
        "def calc_total():\n",
        "  num2 = input(\"num1\")\n",
        "  num2 = input(\"num2\")\n",
        "  total = nint(um1) + int(num2)\n",
        "  print(f\"total {total}\")\n",
        "  #print(\"total\", total)\n",
        "  \n",
        "- take home\n",
        "- approx. 1 week to complete\n",
        "- submit answers with quiz\n",
        "- quiz is similar question to python Entry Level Exam\n",
        "- review quiz in class\n",
        "\n",
        "</pre>\n",
        "\n"
      ],
      "metadata": {
        "id": "WTQyaSpLjFfU"
      }
    },
    {
      "cell_type": "code",
      "source": [
        "#array/list/tuplie\n",
        "Items1 = [1.2, 3.1, 5.2, 8.8, 10]\n",
        "select_items_1 = [1.2, 3.1, 5.2]\n",
        "select_items_a = Items1[:3]  #slicers - ie: sequence of items\n",
        "\n",
        "total1 = 0.0\n",
        "\n",
        "#loop - for, while\n",
        "\n",
        "\"\"\"\n",
        "for item in Items1:\n",
        "  if 1.2 in Items1:\n",
        "    total1 += 1.2\n",
        "\n",
        "or\n",
        "\n",
        "  if 1.2 in Items1:\n",
        "    total1 += 1.2\n",
        "\n",
        "or\n",
        "\n",
        "\"\"\"\n",
        "\n",
        "#or - list comprehension\n",
        "for item in select_items_1:\n",
        "  if item in Items1:\n",
        "    total1 += item\n",
        "\n",
        "select_items_list_1 = [item for item in select_items_1] #optional filter if statement\n",
        "\n",
        "#set\n",
        "Items2 = {8.2, 1.5, 25.2, 7.9, 10.3}\n",
        "select_items_2 = [1.5, 25.2, 7.9]\n",
        "\n",
        "total2 = 0.0\n",
        "\n",
        "#or - list comprehension\n",
        "for item in select_items_2:\n",
        "  if item in Items2:\n",
        "    total2 += item\n",
        "\n",
        "select_items_list_2 = [item for item in select_items_2] #optional filter if statement\n",
        "\n",
        "#dict\n",
        "Items3  = {\"a1\":2.8, \"b1\":9.4, \"c1\":8, \"d1\":18.9, \"e1\":7.1}\n",
        "select_items_3 = [\"a1\",\"b2\",\"d1\"]\n",
        "\n",
        "#or - list comprehension\n",
        "for item in select_items_3:\n",
        "  if item in Items3:\n",
        "    total2 += select_items_3[item]\n",
        "\n",
        "select_items_list_3 = [select_items_3[item] for item in select_items_3] #optional filter if statement\n",
        "\n",
        "#compute total\n",
        "#loop through each select list then total items\n",
        "\n",
        "#compbine list\n",
        "combined_list = select_items_list_1 + select_items_list_2 + select_items_list_3\n",
        "combined_total = sum(combined_list)\n",
        "\n"
      ],
      "metadata": {
        "id": "sSDZQ_6o5yr9"
      },
      "execution_count": null,
      "outputs": []
    },
    {
      "cell_type": "code",
      "source": [
        "#\n",
        "#loop through and check if item exists in set or dict\n",
        "#\n",
        "\n",
        "Items2 = {8.2, 1.5, 25.2, 7.9, 10.3}\n",
        "Items3 = {\"a1\":8.2, \"b1\":1.5, \"c1\":25.2, \"d1\":7.9, \"e1\":10.3}\n",
        "\n",
        "#Select the following data from the collection above:\n",
        "items = [1.5, 25.2, 7.9]\n",
        "lookup_keys = [\"a1\",\"d1\"]\n",
        "\n",
        "total2 = 0.0\n",
        "\n",
        "\"\"\"\n",
        "for item in items:\n",
        "  if item in items2:\n",
        "    total2 += item\n",
        "\n",
        "#or\n",
        "\n",
        "for item in items2:\n",
        "  if 1.5 == item:\n",
        "    total2 += item\n",
        "  if 25.2 == item:\n",
        "    total2 += item\n",
        "  if 7.9 == item:\n",
        "    total2 += item\n",
        "\n",
        "#also:\n",
        "#if statement\n",
        "#python swith statement\n",
        "\"\"\"\n"
      ],
      "metadata": {
        "id": "doK4f3jGwqJU"
      },
      "execution_count": null,
      "outputs": []
    },
    {
      "cell_type": "code",
      "source": [
        "## Ai/Ml introduction\n",
        "# https://www.w3schools.com/python/python_ml_getting_started.asp\n",
        "\n",
        "# google classroom AI/ML summary notes\n",
        "\n",
        "\"\"\"\n",
        "\n",
        "7 Steps to Build a Machine Learning Model with Python\n",
        "\n",
        "1. Loading the dataset. - etl\n",
        "2. Understanding the dataset. - eda\n",
        "3. Data preprocessing. - eda , new dataset\n",
        "4. Data visualization.\n",
        "5. Building a regression model, model selection\n",
        "6. Model evaluation, training\n",
        "7. Model prediction\n",
        "\n",
        "* Deploy ml model to production\n",
        "Compare results in production\n",
        "Repeat steps 1-7\n",
        "\n",
        "\"\"\"\n"
      ],
      "metadata": {
        "id": "wFNOUGELOx0h"
      },
      "execution_count": null,
      "outputs": []
    },
    {
      "cell_type": "code",
      "source": [
        "## Python Job roles\n",
        "\n",
        "\"\"\"\n",
        "- python developer\n",
        "- data analysis\n",
        "- data scientist\n",
        "- other\n",
        "\n",
        "\"\"\""
      ],
      "metadata": {
        "id": "2WQXpzSNKyt0"
      },
      "execution_count": null,
      "outputs": []
    },
    {
      "cell_type": "code",
      "source": [
        "#Python pcap exam question review\n",
        "\n",
        "#Question .1\n",
        "\n",
        "i = 0\n",
        "\n",
        "while i !=0:\n",
        "  i=i-1\n",
        "else:\n",
        "  i=i+1\n",
        "\n",
        "#answer A. 1\n",
        "\n",
        "print(i)\n"
      ],
      "metadata": {
        "colab": {
          "base_uri": "https://localhost:8080/"
        },
        "id": "8stKd_MU-1uH",
        "outputId": "5582ab87-2007-47ca-82f9-0adc715f95a0"
      },
      "execution_count": null,
      "outputs": [
        {
          "output_type": "stream",
          "name": "stdout",
          "text": [
            "1\n"
          ]
        }
      ]
    },
    {
      "cell_type": "code",
      "source": [
        "#Question .2\n",
        "\n",
        "#bit shifting\n",
        "#computer binary calculations\n",
        "#bits, bytes\n",
        "#bit shifting\n",
        "#- move of shift integer digits from lef to right\n",
        "# binary 0 1\n",
        "#shift - move left , righ x number of digits\n",
        "# >> 1 - move 1 digit to right\n",
        "# << 1 - move 1 digit to left\n",
        "# >> 3 - move 4 digit to right\n",
        "# << 4 - move 4 digit to left\n",
        "# integer calculations\n",
        "# max number of digits for integer\n",
        "# overflow - shifting beyon the max of an integer digit\n",
        "# bit shifting is used for integer calculations\n",
        "# short had way to calclate integers - integer +-*%\n",
        "\n",
        "\"\"\"\n",
        "\n",
        "i = 10\n",
        "output = i >> 2\n",
        "\n",
        "\"\"\"\n",
        "\n",
        "\"\"\"\n",
        "\n",
        "binary 10 = 0 1 0 1 0\n",
        "\n",
        "16 8 4 2 1\n",
        "0  1 0 1 0\n",
        "\n",
        "shift 2 digts to the right\n",
        "\n",
        "output 2 = 0 0 0 1 0\n",
        "\n",
        "16 8 4 2 1\n",
        "0  0 0 1 0\n",
        "\n",
        "\"\"\"\n",
        "\n",
        "i = 10\n",
        "output = i >> 2\n",
        "print(output)\n"
      ],
      "metadata": {
        "colab": {
          "base_uri": "https://localhost:8080/"
        },
        "id": "FqfsNCuX_fR4",
        "outputId": "929b2910-0c84-4820-b0ef-559e716aa532"
      },
      "execution_count": null,
      "outputs": [
        {
          "output_type": "stream",
          "name": "stdout",
          "text": [
            "2\n"
          ]
        }
      ]
    },
    {
      "cell_type": "code",
      "source": [
        "#question #3\n",
        "\n",
        "#set, map - slicing/indexing - n/a\n",
        "#collection: array/list/tuple\n",
        "\n",
        "#collection.range(start,stop,skip)\n",
        "#output=collection.slicing/indexing[start,stop,skip]\n",
        "\n",
        "#start=index\n",
        "#stop=collection.length-1\n",
        "\n",
        "for i in range(10):\n",
        "  pass\n",
        "\n",
        "print(i)\n"
      ],
      "metadata": {
        "colab": {
          "base_uri": "https://localhost:8080/"
        },
        "id": "lQwATGY3DJLF",
        "outputId": "01df5ad4-06d7-480e-f668-fce33aa198e7"
      },
      "execution_count": null,
      "outputs": [
        {
          "output_type": "stream",
          "name": "stdout",
          "text": [
            "9\n"
          ]
        }
      ]
    },
    {
      "cell_type": "code",
      "source": [
        "#6\n",
        "\n",
        "a='ant'\n",
        "b=\"bat\"\n",
        "c='camel'\n",
        "d=\"test\"\n",
        "#print(a,b,c,sep='\"') #ant\"bat\"camel\n",
        "#print(a,b,c,d,sep='\"')\n",
        "print(a,b,c,d,sep=',')\n"
      ],
      "metadata": {
        "colab": {
          "base_uri": "https://localhost:8080/"
        },
        "id": "I9o2Sg0VFyUR",
        "outputId": "02c132f6-e285-49d2-ba1f-76f85f21cd6d"
      },
      "execution_count": null,
      "outputs": [
        {
          "output_type": "stream",
          "name": "stdout",
          "text": [
            "ant,bat,camel,test\n"
          ]
        }
      ]
    },
    {
      "cell_type": "code",
      "source": [
        "#Question 7\n",
        "\n",
        "#// - rounded or integer division\n",
        "\n",
        "i=5\n",
        "i2 = 5\n",
        "while i>0:\n",
        "  i=i//2\n",
        "  i2=i2/2\n",
        "  print(\" // i: \", str(i))\n",
        "  print(\" / i2: \", str(i2))\n",
        "  #if i % 2=0:  #error\n",
        "  if i % 2==0:\n",
        "    break;\n",
        "  else:\n",
        "    i+=1\n",
        "\n",
        "print(i)\n"
      ],
      "metadata": {
        "colab": {
          "base_uri": "https://localhost:8080/"
        },
        "id": "S6HgE1OaDOCr",
        "outputId": "31beb67e-943b-46d2-b0c6-b294607b2dd2"
      },
      "execution_count": null,
      "outputs": [
        {
          "output_type": "stream",
          "name": "stdout",
          "text": [
            " // i:  2\n",
            " / i2:  2.5\n",
            "2\n"
          ]
        }
      ]
    },
    {
      "cell_type": "code",
      "source": [
        "#question 11\n",
        "#python object referencing\n",
        "\n",
        "a=[1]\n",
        "print(\"a = \", a)\n",
        "b=a\n",
        "#object reference = refence the same object , a and b are the same\n",
        "#review: object copying\n",
        "print(\"b = \", b)\n",
        "a[0]=0\n",
        "print(\"a\", a)\n",
        "\n",
        "print()\n",
        "print(f\"* same ref updated: {a[0]} - a[0] == b[0] - {b[0]}\")\n",
        "print(\"a == b \",a == b)\n",
        "print()\n",
        "\n",
        "print(\"* A. \",(len(a) == len(b)))\n",
        "print(\" B. \",(b[0] +1 == a[0]))\n",
        "print(\"* C. \",(a[0] == b[0]))\n",
        "print(\" D.  \",(a[0] + 1 == b[0]))\n",
        "\n",
        "#copy object in python example\n",
        "import copy\n",
        "\n",
        "# Create a list\n",
        "original_list = [1, 2, [3, 4]]\n",
        "\n",
        "# Shallow copy\n",
        "shallow_copy = copy.copy(original_list)\n",
        "\n",
        "# Deep copy\n",
        "deep_copy = copy.deepcopy(original_list)\n",
        "\n",
        "# Modify the original list\n",
        "original_list[0] = 10\n",
        "original_list[2][0] = 30\n",
        "\n",
        "# Print the lists\n",
        "print(\"Original List:\", original_list)\n",
        "print(\"Shallow Copy:\", shallow_copy)\n",
        "print(\"Deep Copy:\", deep_copy)\n",
        "\n",
        "#copy object in pyhton exam #2\n",
        "#collection example\n",
        "obj1 = [1]\n",
        "obj2 = obj1[:] #creata new object\n",
        "\n",
        "\n",
        "\"\"\"\n",
        "\n",
        "https://www.w3schools.com/python/python_interview_questions.asp\n",
        "\n",
        "18) Can you copy a List in Python by simply writing: list2 = list1?\n",
        "\n",
        "No, because: list2 will only be a reference to list1, and changes made in\n",
        "list1 will automatically also be made in list2.\n",
        "To make a copy of a list, you can use copy() or the list() method.\n",
        "\n",
        "\"\"\"\n",
        "\n"
      ],
      "metadata": {
        "id": "davUTsBDPoPo"
      },
      "execution_count": null,
      "outputs": []
    },
    {
      "cell_type": "code",
      "source": [
        "#54\n",
        "\n",
        "s = \"The Catcher in the Rye\"\n",
        "\n",
        "#** put code here **\n",
        "i = s.split()     #* A.\n",
        "#i = split(s,' ')  #B.\n",
        "#i = s.split(' ')  #* C.\n",
        "#i = split(s)      #D.\n",
        "\n",
        "for w in i:\n",
        "  print(w,end=',')\n",
        "\n",
        "#expected out:\n",
        "#The, Catcher, in, the Rye,"
      ],
      "metadata": {
        "id": "ZOCI4aGUvDjs"
      },
      "execution_count": null,
      "outputs": []
    },
    {
      "cell_type": "code",
      "source": [
        "#60\n",
        "\n",
        "A two-parameter lambda function raising its first parameter to the power of the second parameter should be\n",
        "declared as:\n",
        "\n",
        "A. lambda (x, y) = x ** y\n",
        "B. lambda (x, y): x ** y\n",
        "C. def lambda (x, y): return x ** y\n",
        "* D. lambda x, y: x ** y\n"
      ],
      "metadata": {
        "id": "nv_RAKIfXCbU"
      },
      "execution_count": null,
      "outputs": []
    },
    {
      "cell_type": "code",
      "source": [
        "#61\n",
        "\n",
        "#error - no indentation\n",
        "\"\"\"\n",
        "def f(n):\n",
        "if n == 1:\n",
        "return 1\n",
        "return n + f(n-1)\n",
        "print(f(2))\n",
        "\"\"\"\n",
        "\n",
        "def f(n):\n",
        "  if n == 1:\n",
        "    return 1\n",
        "    return n + f(n-1)\n",
        "\n",
        "print(f(2))\n",
        "\n",
        "\n",
        "#output 3"
      ],
      "metadata": {
        "colab": {
          "base_uri": "https://localhost:8080/"
        },
        "id": "zbvKXd_WxA7p",
        "outputId": "297bd5dc-d5c4-49ee-aa86-8aaaff71a4f2"
      },
      "execution_count": 4,
      "outputs": [
        {
          "output_type": "stream",
          "name": "stdout",
          "text": [
            "None\n"
          ]
        }
      ]
    },
    {
      "cell_type": "code",
      "source": [
        "#64\n",
        "\n",
        "lst = [x for x in range(5)]\n",
        "lst = list (filter(lamda x: x % 2 == 0, lst))\n",
        "\n",
        "print(len(lst))\n",
        "\n",
        "#output 3\n",
        "\n"
      ],
      "metadata": {
        "id": "B99jWFl0XD07"
      },
      "execution_count": null,
      "outputs": []
    },
    {
      "cell_type": "code",
      "source": [
        "#-------------------------------------------------------------------------\n",
        "# Course book - Become a python master - beginner examples summary\n",
        "# Course 1 sample applications\n",
        "#-------------------------------------------------------------------------\n",
        "#input, variables casting - exercise 7,8\n",
        "#functions - exercise 3, exercise 13. other\n",
        "#slicers, indexing\n",
        "#list comprehension: exercise 23, 25, 26\n",
        "#loop, while\n",
        "#if , exercise: 4\n",
        "#error handling ie: exercise 5\n",
        "#file i/o ie: exercise 5\n",
        "#collections: array, list, tuple, set, map\n",
        "#functional programming: sum, map\n",
        "#Other\n",
        "\n",
        "#-------------------------------------------------------------------------\n",
        "# Course book - Become a python master - beginner examples summary\n",
        "# Course 2 sample applications\n",
        "#-------------------------------------------------------------------------\n",
        "# python main program\n",
        "# module import\n",
        "# error handling\n",
        "# Data analysis\n",
        "# Machine Learning\n",
        "# Html, web scraping\n",
        "# Other\n",
        "\n",
        "\"\"\"\n",
        "-----------------------------------\n",
        "Demo invoice systsm requirements\n",
        "- intermediate python program\n",
        "-----------------------------------\n",
        "\n",
        "white a program to calculate the sum of a list of numbers\n",
        "also read data from csv/json other\n",
        "\n",
        "display system datetime\n",
        "generate a random array\n",
        "python startrup program ie: c,c++,c#,java - main(string[])\n",
        "error handling\n",
        "custom module import\n",
        "file i/o\n",
        "function summary\n",
        "parameter argument when program start\n",
        "- console - non-graphical program ie: command line program\n",
        "- other: graphical python programs - ie: desktop app or web app\n",
        "\n",
        "\"\"\""
      ],
      "metadata": {
        "id": "ryQwzHv-soMV"
      },
      "execution_count": null,
      "outputs": []
    },
    {
      "cell_type": "markdown",
      "source": [],
      "metadata": {
        "id": "YwbRZj21spnX"
      }
    }
  ]
}