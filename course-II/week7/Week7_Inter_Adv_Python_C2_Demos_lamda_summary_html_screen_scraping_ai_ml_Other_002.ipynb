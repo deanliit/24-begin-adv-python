{
  "nbformat": 4,
  "nbformat_minor": 0,
  "metadata": {
    "colab": {
      "provenance": []
    },
    "kernelspec": {
      "name": "python3",
      "display_name": "Python 3"
    },
    "language_info": {
      "name": "python"
    }
  },
  "cells": [
    {
      "cell_type": "markdown",
      "source": [
        "#Weekly class demos and Exercises summary  \n",
        "- 10 weeks course (2.5h class/demos/labs) / 30 min practice\n",
        "\n",
        "#Weekly Topics\n",
        " - OOP-Class-Lamda\n",
        " - https://www.w3schools.com/python/python_classes.asp\n",
        " - https://www.w3schools.com/python/python_lambda.asp\n",
        " - https://www.freecodecamp.org/news/python-lambda-functions/\n",
        "\n",
        "## Html screen scraping\n",
        "- https://stackabuse.com/guide-to-parsing-html-with-beautifulsoup-in-python/\n",
        "\n",
        "#Weekly Homework , Class Assignment, Class Project\n",
        "- Reading/review\n",
        "\n",
        "  - w3schools reference\n",
        "  - classes, lamda\n",
        "  \n",
        "- practice: in-class exercises\n",
        "\n",
        "- pdf ebook ref\n",
        "- exercises , course book pages\n",
        "- pages:\n",
        "   -\n",
        "\n",
        "#github course demos and examples\n",
        "\n",
        "- https://github.com/deanliit/begin-adv-python-course-I\n",
        "\n",
        "- https://github.com/deanliit/begin-adv-python-course-II\n",
        "\n",
        "## Python references\n",
        "https://www.w3schools.com/python/python_intro.asp\n",
        "- Course book\n",
        "\n",
        "### Class Quiz - Email link to google forms\n",
        "\n",
        "<pre>\n",
        "\n",
        "- 3 quizzes - similar to python entry level quiz\n",
        "- multiple choice\n",
        "- 6 multiple choice quesitons = 85%\n",
        "- 1 code fill-in question\n",
        "\n",
        "> fill-in code section\n",
        "write code is vs.code - copy code in quiz\n",
        "small example program -- 15%\n",
        "example: write a progarm to compute 2 numeric values\n",
        "notes: create code in a function\n",
        "use input to retieve integer values\n",
        "display items and total\n",
        "\n",
        "def calc_total():\n",
        "  num2 = input(\"num1\")\n",
        "  num2 = input(\"num2\")\n",
        "  total = nint(um1) + int(num2)\n",
        "  print(f\"total {total}\")\n",
        "  #print(\"total\", total)\n",
        "  \n",
        "- take home\n",
        "- approx. 1 week to complete\n",
        "- submit answers with quiz\n",
        "- quiz is similar question to python Entry Level Exam\n",
        "- review quiz in class\n",
        "\n",
        "</pre>"
      ],
      "metadata": {
        "id": "WTQyaSpLjFfU"
      }
    },
    {
      "cell_type": "code",
      "source": [
        "#lamda summary overview\n",
        "#-------------------------------------\n",
        "\n",
        "\"\"\"\n",
        "\n",
        "1. functional programming\n",
        "2. does not modify input paramaters\n",
        "3. written on one line\n",
        "4. return function, data, or other lamda\n",
        "5. can create lamnd or function within lamda\n",
        "6. other\n",
        "\n",
        "https://www.w3schools.com/python/python_lambda.asp\n",
        "\n",
        "https://www.programiz.com/python-programming/anonymous-function\n",
        "\n",
        "\"\"\""
      ],
      "metadata": {
        "id": "Ae2ZZP_OzlBE"
      },
      "execution_count": null,
      "outputs": []
    },
    {
      "cell_type": "code",
      "source": [
        "#week7-lamda-summary-1.py\n",
        "\n",
        "def myfunc(n):\n",
        "  return lambda a : a * n\n",
        "\n",
        "#rturning lamda function from a function call\n",
        "mydoubler = myfunc(2)\n",
        "\n",
        "#calling lamda function\n",
        "print(mydoubler(11))\n"
      ],
      "metadata": {
        "id": "rPPTrcDl080R"
      },
      "execution_count": null,
      "outputs": []
    },
    {
      "cell_type": "code",
      "source": [
        "#week7-lamda-summary-2.py\n",
        "\n",
        "#https://www.programiz.com/python-programming/anonymous-function\n",
        "\n",
        "# program to filter out only the even items from a list\n",
        "my_list = [1, 5, 4, 6, 8, 11, 3, 12]\n",
        "\n",
        "new_list1 = []\n",
        "\n",
        "#can also include indexsclicers\n",
        "\n",
        "#for loop filter\n",
        "for item in my_list:\n",
        "  if item % 2 == 0:\n",
        "      new_list1.append(item)\n",
        "\n",
        "#list comprehension filter\n",
        "#[item for item in my_list if item % 2]\n",
        "\n",
        "#filter function - function chanining - functional programming, can also include index slicers\n",
        "new_list2 = list(filter(filter_func(x) , my_list))\n",
        "\n",
        "def filter_func(x):\n",
        "  if (x%2 == 0)\n",
        "\n",
        "#lamda filter\n",
        "#provide a lamda expression when a function can be used\n",
        "#filter function - function chanining - functional programming, can also include index slicers\n",
        "new_list3 = list(filter(lambda x: (x%2 == 0) , my_list))\n",
        "\n",
        "print(new_list4)\n",
        "\n",
        "# Output: [4, 6, 8, 12]"
      ],
      "metadata": {
        "id": "VF3GzV4C4mgJ"
      },
      "execution_count": null,
      "outputs": []
    },
    {
      "cell_type": "code",
      "source": [
        "#Introduction to screen scvraping using Python library - beattifulsoup\n",
        "#extracting data from a webpage or xml document using python - beattifulsoup\n",
        "#https://stackabuse.com/guide-to-parsing-html-with-beautifulsoup-in-python/\n"
      ],
      "metadata": {
        "id": "9dxc9z2EylAJ"
      },
      "execution_count": null,
      "outputs": []
    },
    {
      "cell_type": "markdown",
      "source": [
        "## Python web screen scraping demo #1\n",
        "- extract data from a web page using Beattiful Soup python library\n",
        "- 1. create a webpage/web document or html snipit/fragment\n",
        "  - formats tags around text/data or image/video/data or links\n",
        "  - begin/end, open/close tags/element\n",
        "  - html, head, body\n",
        "  - formatting : h1, b, i, other   \n",
        "- 2. install beautiful soup library\n",
        "  - pip install beautifulsoup4\n",
        "  - or\n",
        "  - python -m pip install beautifulsoup4\n",
        "- 3. extra data from html page or fragment\n",
        " - html, head, body, title, h1\n"
      ],
      "metadata": {
        "id": "CVDQ_Nx3zy5s"
      }
    },
    {
      "cell_type": "code",
      "source": [
        "%%html\n",
        "<html>\n",
        "  <head>\n",
        "      <title>Demo web page 1</title>\n",
        "  </head>\n",
        "  <body>\n",
        "      <h1>Demo web page 1</h1>\n",
        "  </body>\n",
        "</html>"
      ],
      "metadata": {
        "colab": {
          "base_uri": "https://localhost:8080/",
          "height": 74
        },
        "id": "NxuN2j2A0UOc",
        "outputId": "f0b8be65-d4e8-4ff1-9682-c97005819aaa"
      },
      "execution_count": null,
      "outputs": [
        {
          "output_type": "display_data",
          "data": {
            "text/plain": [
              "<IPython.core.display.HTML object>"
            ],
            "text/html": [
              "<html>\n",
              "  <head>\n",
              "      <title>Demo web page 1</title>\n",
              "  </head>\n",
              "  <body>\n",
              "      <h1>Demo web page 1</h1>\n",
              "  </body>\n",
              "</html>\n"
            ]
          },
          "metadata": {}
        }
      ]
    },
    {
      "cell_type": "code",
      "source": [
        "%%html\n",
        "<html>\n",
        "<head>\n",
        "  <title>Demo website 2 title</title>\n",
        "</head>\n",
        "\n",
        "<body>\n",
        "  <p class=\"title\"><b>Demo website 2 document title</b></p>\n",
        "  <p class=\"story\">webiste site description\n",
        "    <a href=\"http://yhaoo.com\" class=\"element-class\" id=\"link1\">yahoo website</a>\n",
        "    <a href=\"http://gmail.com\" class=\"element-class\" id=\"link2\">gmail website</a>\n",
        "    <a href=\"http://amazon.com\" class=\"amazon-class\" id=\"link3\">amazon website</a>\n",
        "  <p> additional website information</p>\n",
        "  <div>\n",
        "      <b style=\"color:blue\">website content </b>\n",
        "      <img src=\"image1.jpg\">\n",
        "      <!-- website comment -->\n",
        "  </div>\n",
        "</body>\n",
        "</html>"
      ],
      "metadata": {
        "colab": {
          "resources": {
            "http://localhost:8080/image1.jpg": {
              "data": "",
              "ok": false,
              "headers": [
                [
                  "content-length",
                  "0"
                ]
              ],
              "status": 404,
              "status_text": ""
            }
          },
          "base_uri": "https://localhost:8080/",
          "height": 113
        },
        "id": "s-4co8UV_5aP",
        "outputId": "a1ded303-359a-4dd6-9076-7262fa79f95f"
      },
      "execution_count": 2,
      "outputs": [
        {
          "output_type": "display_data",
          "data": {
            "text/plain": [
              "<IPython.core.display.HTML object>"
            ],
            "text/html": [
              "<html>\n",
              "<head>\n",
              "  <title>Demo website 2 title</title>\n",
              "</head>\n",
              "\n",
              "<body>\n",
              "  <p class=\"title\"><b>Demo website 2 document title</b></p>\n",
              "  <p class=\"story\">webiste site description\n",
              "    <a href=\"http://yhaoo.com\" class=\"element-class\" id=\"link1\">yahoo website</a>\n",
              "    <a href=\"http://gmail.com\" class=\"element-class\" id=\"link2\">gmail website</a>\n",
              "    <a href=\"http://amazon.com\" class=\"amazon-class\" id=\"link3\">amazon website</a>\n",
              "  <p> additional website information</p>\n",
              "  <div>\n",
              "      <b style=\"color:blue\">website content </b>\n",
              "      <img src=\"image1.jpg\">\n",
              "      <!-- website comment -->\n",
              "  </div>  \n",
              "</body>\n",
              "</html>\n"
            ]
          },
          "metadata": {}
        }
      ]
    },
    {
      "cell_type": "code",
      "source": [
        "%%html\n",
        "\n",
        "<h1>fragment Demo 1</h1>\n"
      ],
      "metadata": {
        "colab": {
          "base_uri": "https://localhost:8080/",
          "height": 74
        },
        "id": "QthHCLTO1xpB",
        "outputId": "f22b70de-1d80-4c74-cc86-efce78716596"
      },
      "execution_count": null,
      "outputs": [
        {
          "output_type": "display_data",
          "data": {
            "text/plain": [
              "<IPython.core.display.HTML object>"
            ],
            "text/html": [
              "\n",
              "<h1>fragment Demo 1</h1>\n"
            ]
          },
          "metadata": {}
        }
      ]
    },
    {
      "cell_type": "code",
      "source": [
        "\"\"\"\n",
        "--- vs.code ---\n",
        "- pip install beautifulsoup4\n",
        "- or\n",
        "- python -m pip install beautifulsoup4\n",
        "\n",
        "\"\"\"\n",
        "from bs4 import BeautifulSoup\n",
        "\n",
        "print(\"BeautifulSoup 4 introduction\")\n",
        "\n"
      ],
      "metadata": {
        "colab": {
          "base_uri": "https://localhost:8080/"
        },
        "id": "ABgTHBOc5MHv",
        "outputId": "4bd3f429-dd26-455e-ebd8-a39009bf530d"
      },
      "execution_count": null,
      "outputs": [
        {
          "output_type": "stream",
          "name": "stdout",
          "text": [
            "BeautifulSoup 4 introduction\n"
          ]
        }
      ]
    },
    {
      "cell_type": "code",
      "source": [
        "#week7-bs-demo-1.py\n",
        "\n",
        "from bs4 import BeautifulSoup\n",
        "\n",
        "_html1 = \"\"\"\n",
        "<html>\n",
        "  <head>\n",
        "      <title>Demo web page 1</title>\n",
        "  </head>\n",
        "  <body>\n",
        "      <h1>Demo web page 1</h1>\n",
        "  </body>\n",
        "</html>\n",
        "\"\"\"\n",
        "\n",
        "soup = BeautifulSoup(_html1,\"html.parser\")\n",
        "\n",
        "print(\"BeautifulSoup 4 introduction\")\n",
        "\n",
        "print(soup)\n",
        "\n"
      ],
      "metadata": {
        "colab": {
          "base_uri": "https://localhost:8080/"
        },
        "id": "AuEYtlVQ6oVR",
        "outputId": "5e9b8651-c474-4cab-e012-787c566b27a6"
      },
      "execution_count": 1,
      "outputs": [
        {
          "output_type": "stream",
          "name": "stdout",
          "text": [
            "BeautifulSoup 4 introduction\n",
            "\n",
            "<html>\n",
            "<head>\n",
            "<title>Demo web page 1</title>\n",
            "</head>\n",
            "<body>\n",
            "<h1>Demo web page 1</h1>\n",
            "</body>\n",
            "</html>\n",
            "\n"
          ]
        }
      ]
    },
    {
      "cell_type": "code",
      "source": [
        "#week7-bs-demo-2.py\n",
        "#extract data from web page / web document\n",
        "\n",
        "from bs4 import BeautifulSoup\n",
        "\n",
        "_html1 = \"\"\"\n",
        "<html>\n",
        "  <head>\n",
        "      <title>Demo web page 1</title>\n",
        "  </head>\n",
        "  <body>\n",
        "      <h1>Demo web page 1</h1>\n",
        "  </body>\n",
        "</html>\n",
        "\"\"\"\n",
        "\n",
        "soup = BeautifulSoup(_html1,\"html.parser\")\n",
        "\n",
        "print(\"BeautifulSoup 4 introduction\")\n",
        "print(soup)\n",
        "print(\"heading: \", soup.head.title)\n",
        "print(\"heading: \", soup.head.title.text)\n"
      ],
      "metadata": {
        "id": "8I5fIgHH5YBR",
        "colab": {
          "base_uri": "https://localhost:8080/"
        },
        "outputId": "33f0f091-c2cb-4bae-ff48-b9c7656a18f4"
      },
      "execution_count": 5,
      "outputs": [
        {
          "output_type": "stream",
          "name": "stdout",
          "text": [
            "BeautifulSoup 4 introduction\n",
            "\n",
            "<html>\n",
            "<head>\n",
            "<title>Demo web page 1</title>\n",
            "</head>\n",
            "<body>\n",
            "<h1>Demo web page 1</h1>\n",
            "</body>\n",
            "</html>\n",
            "\n",
            "heading:  <title>Demo web page 1</title>\n",
            "heading:  Demo web page 1\n"
          ]
        }
      ]
    },
    {
      "cell_type": "code",
      "source": [
        "#week7-bs-demo-3.py\n",
        "#extract data from web page / web document\n",
        "\n",
        "print(\"body: \", soup.body)\n",
        "print(\"body.h1: \", soup.body.h1)\n",
        "\n"
      ],
      "metadata": {
        "colab": {
          "base_uri": "https://localhost:8080/"
        },
        "id": "Aax0CTv7FEct",
        "outputId": "f340dec3-85c5-438c-9fbc-ae97d1d71f4e"
      },
      "execution_count": 7,
      "outputs": [
        {
          "output_type": "stream",
          "name": "stdout",
          "text": [
            "body:  <body>\n",
            "<h1>Demo web page 1</h1>\n",
            "</body>\n",
            "body.h1:  <h1>Demo web page 1</h1>\n"
          ]
        }
      ]
    },
    {
      "cell_type": "code",
      "source": [
        "#week7-bs-demo-4.py\n",
        "#extract data from web page / web document\n",
        "\n",
        "from bs4 import BeautifulSoup\n",
        "\n",
        "_html2 = '''\n",
        "<html>\n",
        "<head>\n",
        "  <title>Demo website 2 title</title>\n",
        "</head>\n",
        "\n",
        "<body>\n",
        "  <p class=\"title\"><b>Demo website 2 document title</b></p>\n",
        "  <p class=\"story\">webiste site description\n",
        "    <a href=\"http://yhaoo.com\" class=\"element-class\" id=\"link1\">yahoo website</a>\n",
        "    <a href=\"http://gmail.com\" class=\"element-class\" id=\"link2\">gmail website</a>\n",
        "    <a href=\"http://amazon.com\" class=\"amazon-class\" id=\"link3\">amazon website</a>\n",
        "  <p> additional website information</p>\n",
        "  <div>\n",
        "      <b style=\"color:blue\">website content </b>\n",
        "      <img src=\"image1.jpg\">\n",
        "      <!-- website comment -->\n",
        "  </div>\n",
        "</body>\n",
        "</html>\n",
        "'''\n",
        "\n",
        "soup = BeautifulSoup(_html2,\"html.parser\")\n",
        "#print(soup)\n",
        "print(soup.get_text())\n",
        "soup.find_all(\"a\")\n"
      ],
      "metadata": {
        "colab": {
          "base_uri": "https://localhost:8080/"
        },
        "id": "GPZFuyIGGQh4",
        "outputId": "647629ad-1c2a-4025-c5c8-1905cfbd8473"
      },
      "execution_count": 11,
      "outputs": [
        {
          "output_type": "stream",
          "name": "stdout",
          "text": [
            "\n",
            "\n",
            "\n",
            "Demo website 2 title\n",
            "\n",
            "\n",
            "Demo website 2 document title\n",
            "webiste site description\n",
            "    yahoo website\n",
            "gmail website\n",
            "amazon website\n",
            " additional website information\n",
            "\n",
            "website content \n",
            "\n",
            "\n",
            "\n",
            "\n",
            "\n",
            "\n"
          ]
        },
        {
          "output_type": "execute_result",
          "data": {
            "text/plain": [
              "[<a class=\"element-class\" href=\"http://yhaoo.com\" id=\"link1\">yahoo website</a>,\n",
              " <a class=\"element-class\" href=\"http://gmail.com\" id=\"link2\">gmail website</a>,\n",
              " <a class=\"amazon-class\" href=\"http://amazon.com\" id=\"link3\">amazon website</a>]"
            ]
          },
          "metadata": {},
          "execution_count": 11
        }
      ]
    },
    {
      "cell_type": "code",
      "source": [
        "#week7-bs-demo-5.py\n",
        "#extract data from web page / web document\n",
        "\n",
        "#print(soup)\n",
        "#print(soup.get_text())\n",
        "print(soup.prettify())\n",
        "soup.find_all(\"img\")\n"
      ],
      "metadata": {
        "colab": {
          "base_uri": "https://localhost:8080/"
        },
        "id": "tnqVLyv4H3m5",
        "outputId": "4f7bf50f-3bea-47b3-d8a6-a2f90c3dd133"
      },
      "execution_count": 13,
      "outputs": [
        {
          "output_type": "stream",
          "name": "stdout",
          "text": [
            "<html>\n",
            " <head>\n",
            "  <title>\n",
            "   Demo website 2 title\n",
            "  </title>\n",
            " </head>\n",
            " <body>\n",
            "  <p class=\"title\">\n",
            "   <b>\n",
            "    Demo website 2 document title\n",
            "   </b>\n",
            "  </p>\n",
            "  <p class=\"story\">\n",
            "   webiste site description\n",
            "   <a class=\"element-class\" href=\"http://yhaoo.com\" id=\"link1\">\n",
            "    yahoo website\n",
            "   </a>\n",
            "   <a class=\"element-class\" href=\"http://gmail.com\" id=\"link2\">\n",
            "    gmail website\n",
            "   </a>\n",
            "   <a class=\"amazon-class\" href=\"http://amazon.com\" id=\"link3\">\n",
            "    amazon website\n",
            "   </a>\n",
            "   <p>\n",
            "    additional website information\n",
            "   </p>\n",
            "   <div>\n",
            "    <b style=\"color:blue\">\n",
            "     website content\n",
            "    </b>\n",
            "    <img src=\"image1.jpg\"/>\n",
            "    <!-- website comment -->\n",
            "   </div>\n",
            "  </p>\n",
            " </body>\n",
            "</html>\n",
            "\n"
          ]
        },
        {
          "output_type": "execute_result",
          "data": {
            "text/plain": [
              "[<img src=\"image1.jpg\"/>]"
            ]
          },
          "metadata": {},
          "execution_count": 13
        }
      ]
    },
    {
      "cell_type": "code",
      "source": [
        "#week7-bs-demo-5.py\n",
        "#extract data from web page / web document\n",
        "#save content to file or data etc..\n",
        "\n",
        "#print(soup)\n",
        "#print(soup.head.contents)\n",
        "#print(soup.get_text())\n",
        "#print(soup.prettify())\n",
        "#print(soup.find_all(\"img\"))\n",
        "content1 = soup.find_all(\"a\", class_=\"amazon-class\")\n",
        "print(str(content1))\n",
        "\n",
        "\"\"\"\n",
        "\n",
        "f = open(\"bs-output-1.txt\",\"w\")\n",
        "  f.write(str(content1))\n",
        "\n",
        "f.close()\n",
        "\n",
        "\"\"\"\n",
        "\n",
        "#save content to file\n",
        "with open(\"bs-output-1.txt\",\"w\") as f:\n",
        "  f.write(str(content1))\n",
        "\n",
        "#!ls\n"
      ],
      "metadata": {
        "colab": {
          "base_uri": "https://localhost:8080/"
        },
        "id": "QsFmasqKJTGE",
        "outputId": "4f08eab4-6bed-4b93-f872-1fe4dfc7ecad"
      },
      "execution_count": 35,
      "outputs": [
        {
          "output_type": "stream",
          "name": "stdout",
          "text": [
            "[<a class=\"amazon-class\" href=\"http://amazon.com\" id=\"link3\">amazon website</a>]\n"
          ]
        }
      ]
    },
    {
      "cell_type": "code",
      "source": [
        "!ls\n",
        "!cat bs-output-1.txt\n",
        "\n"
      ],
      "metadata": {
        "colab": {
          "base_uri": "https://localhost:8080/"
        },
        "id": "hvBthhGSLzxX",
        "outputId": "4be02dac-a8b1-4bc4-eaa5-ac89e40d1df4"
      },
      "execution_count": 33,
      "outputs": [
        {
          "output_type": "stream",
          "name": "stdout",
          "text": [
            "bs-output-1.txt  sample_data\n",
            "[<a class=\"amazon-class\" href=\"http://amazon.com\" id=\"link3\">amazon website</a>]"
          ]
        }
      ]
    },
    {
      "cell_type": "code",
      "source": [
        "#read file\n",
        "\n",
        "\"\"\"\n",
        "\n",
        "f = open(\"bs-output-1.txt\",\"r\")\n",
        "  print(f.read())\n",
        "\n",
        "f.close()\n",
        "\n",
        "\"\"\"\n",
        "\n",
        "with open(\"bs-output-1.txt\",\"r\") as f:\n",
        "  print(f.read())\n"
      ],
      "metadata": {
        "colab": {
          "base_uri": "https://localhost:8080/"
        },
        "id": "ayIY4QXSMDW7",
        "outputId": "8d568024-65ea-441c-dc04-0d42d2fec608"
      },
      "execution_count": 34,
      "outputs": [
        {
          "output_type": "stream",
          "name": "stdout",
          "text": [
            "[<a class=\"amazon-class\" href=\"http://amazon.com\" id=\"link3\">amazon website</a>]\n"
          ]
        }
      ]
    }
  ]
}