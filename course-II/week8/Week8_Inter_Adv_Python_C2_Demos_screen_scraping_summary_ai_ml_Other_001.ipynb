{
  "nbformat": 4,
  "nbformat_minor": 0,
  "metadata": {
    "colab": {
      "provenance": []
    },
    "kernelspec": {
      "name": "python3",
      "display_name": "Python 3"
    },
    "language_info": {
      "name": "python"
    }
  },
  "cells": [
    {
      "cell_type": "markdown",
      "source": [
        "#Weekly class demos and Exercises summary  \n",
        "- 10 weeks course (2.5h class/demos/labs) / 30 min practice\n",
        "\n",
        "#Weekly Topics\n",
        " - Beautiful soup summary\n",
        " - AI/ML introduction  \n",
        "  - https://www.w3schools.com/python/python_ml_getting_started.asp\n",
        "\n",
        "## Html screen scraping\n",
        "- https://stackabuse.com/guide-to-parsing-html-with-beautifulsoup-in-python/\n",
        "\n",
        "#Weekly Homework , Class Assignment, Class Project\n",
        "- Reading/review\n",
        "\n",
        "  - w3schools reference\n",
        "  - classes, lamda\n",
        "  \n",
        "- practice: in-class exercises\n",
        "\n",
        "- pdf ebook ref\n",
        "- exercises , course book pages\n",
        "- pages:\n",
        "   -\n",
        "\n",
        "#github course demos and examples\n",
        "\n",
        "- https://github.com/deanliit/8-24-begin-adv-python.git\n",
        "\n",
        "## Python references\n",
        "https://www.w3schools.com/python/python_intro.asp\n",
        "- Course book\n",
        "\n",
        "### Class Quiz - Email link to google forms\n",
        "\n",
        "<pre>\n",
        "\n",
        "- 3 quizzes - similar to python entry level quiz\n",
        "- multiple choice\n",
        "- 6 multiple choice quesitons = 85%\n",
        "- 1 code fill-in question\n",
        "\n",
        "> fill-in code section\n",
        "write code is vs.code - copy code in quiz\n",
        "small example program -- 15%\n",
        "example: write a progarm to compute 2 numeric values\n",
        "notes: create code in a function\n",
        "use input to retieve integer values\n",
        "display items and total\n",
        "\n",
        "def calc_total():\n",
        "  num2 = input(\"num1\")\n",
        "  num2 = input(\"num2\")\n",
        "  total = nint(um1) + int(num2)\n",
        "  print(f\"total {total}\")\n",
        "  #print(\"total\", total)\n",
        "  \n",
        "- take home\n",
        "- approx. 1 week to complete\n",
        "- submit answers with quiz\n",
        "- quiz is similar question to python Entry Level Exam\n",
        "- review quiz in class\n",
        "\n",
        "</pre>\n",
        "\n"
      ],
      "metadata": {
        "id": "WTQyaSpLjFfU"
      }
    },
    {
      "cell_type": "code",
      "source": [
        "#Quiz #2 review\n",
        "\n",
        "items = (1,1.2,3,4.1,5.3) #tuple is read-only\n",
        "\n",
        "#access index - list/array/tuple , n/a - set, map\n",
        "#items[1] = 1.3\n",
        "\n",
        "print(items[1])\n",
        "\n",
        "if 1.3 in items: #array/list/tuple/set/map\n",
        "    print(\"1.3 is in collection\")\n",
        "else:\n",
        "  print(\"1.3 is NOT in collection\")\n"
      ],
      "metadata": {
        "colab": {
          "base_uri": "https://localhost:8080/"
        },
        "id": "0dbp2InZgkGa",
        "outputId": "83907298-238c-4c51-cd02-653be33470c4"
      },
      "execution_count": 4,
      "outputs": [
        {
          "output_type": "stream",
          "name": "stdout",
          "text": [
            "1.2\n",
            "1.3 is NOT in collection\n"
          ]
        }
      ]
    },
    {
      "cell_type": "code",
      "source": [
        "#python operators\n",
        "x = 15\n",
        "y = 2\n",
        "\n",
        "print(\"x/y: \",(x/y))\n",
        "print(\"x//y: \",(x//y))\n",
        "print(\"x**y: \",(x**y))\n",
        "print(\"x%y: \",(x%y))\n"
      ],
      "metadata": {
        "colab": {
          "base_uri": "https://localhost:8080/"
        },
        "id": "WPiYjLZ-rJQ3",
        "outputId": "ae8a0151-3d5f-492c-b1c1-c7b630d54769"
      },
      "execution_count": 5,
      "outputs": [
        {
          "output_type": "stream",
          "name": "stdout",
          "text": [
            "x/y:  7.5\n",
            "x//y:  7\n",
            "x**y:  225\n",
            "x%y:  1\n"
          ]
        }
      ]
    },
    {
      "cell_type": "code",
      "source": [
        "contacts = \"ann,annd@gmail.com,723-32-3484\"\n",
        "contact_list = contacts.split(\",\")\n",
        "\n",
        "print(contact_list)\n",
        "\n",
        "#access index\n",
        "print(contact_list[1])\n",
        "\n",
        "#negative index - last item in array\n",
        "print(contact_list[-1])\n"
      ],
      "metadata": {
        "colab": {
          "base_uri": "https://localhost:8080/"
        },
        "id": "AuAuKjfIrzxi",
        "outputId": "75b237cb-bff3-470b-d7da-2143b426ebb6"
      },
      "execution_count": 8,
      "outputs": [
        {
          "output_type": "stream",
          "name": "stdout",
          "text": [
            "['ann', 'annd@gmail.com', '723-32-3484']\n",
            "annd@gmail.com\n",
            "723-32-3484\n"
          ]
        }
      ]
    },
    {
      "cell_type": "code",
      "source": [
        "#while loop\n",
        "\n",
        "i=0\n",
        "\n",
        "#error prone\n",
        "while (i<=10): #logical expression to stop a while loop\n",
        "  #can have infinite loop of you do not stop the while loop\n",
        "  pass #do nothing\n",
        "  None #do nothing\n",
        "  i += 1\n",
        "\n",
        "print(i)\n"
      ],
      "metadata": {
        "colab": {
          "base_uri": "https://localhost:8080/"
        },
        "id": "PrjiG99csuep",
        "outputId": "095f333c-32f2-494b-bf8c-47f9522ddf0f"
      },
      "execution_count": 11,
      "outputs": [
        {
          "output_type": "stream",
          "name": "stdout",
          "text": [
            "11\n"
          ]
        }
      ]
    },
    {
      "cell_type": "code",
      "source": [
        "#for loop\n",
        "\n",
        "for i in range(10):\n",
        "  pass #do nothing\n",
        "  None #do nothing\n",
        "  i += 1\n",
        "\n",
        "print(i)\n"
      ],
      "metadata": {
        "colab": {
          "base_uri": "https://localhost:8080/"
        },
        "id": "ajcU1xmztg8J",
        "outputId": "76f3957f-cb07-407d-cfd7-dffd157cb632"
      },
      "execution_count": 12,
      "outputs": [
        {
          "output_type": "stream",
          "name": "stdout",
          "text": [
            "10\n"
          ]
        }
      ]
    },
    {
      "cell_type": "code",
      "source": [
        "#class - OOP\n",
        "class MyClass:\n",
        "  None #ie: null\n",
        "  pass #ie: null\n",
        "\n"
      ],
      "metadata": {
        "id": "kRl5MBNHt-M3"
      },
      "execution_count": 14,
      "outputs": []
    },
    {
      "cell_type": "code",
      "source": [
        "\"\"\"\n",
        "Create a program to prompt for a username and compute the total of the following collection of items.\n",
        "\n",
        " 1.2, 3, 10.3, 11, 15.7, 18.9, 20.8, 30.2\n",
        "\n",
        "Display the following output:\n",
        "\n",
        "USERNAME today's date\n",
        "\n",
        "items:\n",
        "[1.2, 3, 10.3, 11, 15.7, 18.9, 20.8, 30.2]\n",
        "\n",
        "total\n",
        "\n",
        "note:\n",
        "create code using a function\n",
        "Use a list to store items\n",
        "Prompt for username\n",
        "Convert username to uppercase\n",
        "Display today's date\n",
        "Display rounded total to 2 decimal points\n",
        "\"\"\"\n",
        "\n",
        "#solution #1\n",
        "\n",
        "import datetime\n",
        "\n",
        "items = [1.2, 3, 10.3, 11, 15.7, 18.9, 20.8, 30.2]\n",
        "\n",
        "def calc_total():\n",
        "  total = 0.0\n",
        "  username = \"userone\".upper() #input(\"username: \")\n",
        "\n",
        "  now = datetime.datetime.now()\n",
        "\n",
        "  _date1 = f\"{now.month}/{now.day}/{now.year}\"\n",
        "  _date2 = now.strftime(\"%m/%d/%y\")\n",
        "\n",
        "  for item in items:\n",
        "    total += item\n",
        "\n",
        "  print(username, \" \", _date2)\n",
        "  print()\n",
        "  print(items)\n",
        "  print()\n",
        "  print(\"total: \", round(total,2))\n",
        "\n",
        "\n",
        "calc_total()\n",
        "\n"
      ],
      "metadata": {
        "colab": {
          "base_uri": "https://localhost:8080/"
        },
        "id": "0kd7_10hgo_0",
        "outputId": "78412181-51b7-4634-db37-a1b2024538ea"
      },
      "execution_count": 21,
      "outputs": [
        {
          "output_type": "stream",
          "name": "stdout",
          "text": [
            "USERONE   11/26/24\n",
            "\n",
            "[1.2, 3, 10.3, 11, 15.7, 18.9, 20.8, 30.2]\n",
            "\n",
            "total:  111.1\n"
          ]
        }
      ]
    },
    {
      "cell_type": "code",
      "source": [
        "#solution #2\n",
        "\n",
        "import datetime\n",
        "\n",
        "items = [1.2, 3, 10.3, 11, 15.7, 18.9, 20.8, 30.2]\n",
        "\n",
        "def calc_total():\n",
        "  total = 0.0\n",
        "  username = \"userone\".upper() #input(\"username: \")\n",
        "\n",
        "  now = datetime.datetime.now()\n",
        "\n",
        "  _date1 = f\"{now.month}/{now.day}/{now.year}\"\n",
        "  _date2 = now.strftime(\"%m/%d/%y\")\n",
        "\n",
        "  #for item in items:\n",
        "  # total += item\n",
        "\n",
        "  #functional programming: ai/ml, mathamitical calculations, optimize code statements\n",
        "  #aloe: filter, map, other\n",
        "  #also lamda:\n",
        "\n",
        "  total = sum(items)\n",
        "\n",
        "  print(username, \" \", _date2)\n",
        "  print()\n",
        "  print(items)\n",
        "  print()\n",
        "  print(\"total: \", round(total,2))\n",
        "\n",
        "\n",
        "calc_total()\n"
      ],
      "metadata": {
        "colab": {
          "base_uri": "https://localhost:8080/"
        },
        "id": "Jo9TeSYpwwet",
        "outputId": "5beaacce-dd98-4158-fd28-255409cf555b"
      },
      "execution_count": 22,
      "outputs": [
        {
          "output_type": "stream",
          "name": "stdout",
          "text": [
            "USERONE   11/26/24\n",
            "\n",
            "[1.2, 3, 10.3, 11, 15.7, 18.9, 20.8, 30.2]\n",
            "\n",
            "total:  111.1\n"
          ]
        }
      ]
    },
    {
      "cell_type": "code",
      "source": [
        "## Ai/Ml introduction\n",
        "# https://www.w3schools.com/python/python_ml_getting_started.asp\n",
        "\n",
        "# google classroom AI/ML summary notes\n",
        "\n",
        "\"\"\"\n",
        "\n",
        "7 Steps to Build a Machine Learning Model with Python\n",
        "\n",
        "1. Loading the dataset. - etl\n",
        "2. Understanding the dataset. - eda\n",
        "3. Data preprocessing. - eda , new dataset\n",
        "4. Data visualization.\n",
        "5. Building a regression model, model selection\n",
        "6. Model evaluation, training\n",
        "7. Model prediction\n",
        "\n",
        "* Deploy ml model to production\n",
        "Compare results in production\n",
        "Repeat steps 1-7\n",
        "\n",
        "\"\"\""
      ],
      "metadata": {
        "id": "wFNOUGELOx0h"
      },
      "execution_count": null,
      "outputs": []
    }
  ]
}